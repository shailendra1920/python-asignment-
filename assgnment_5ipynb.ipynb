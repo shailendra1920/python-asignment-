{
  "nbformat": 4,
  "nbformat_minor": 0,
  "metadata": {
    "colab": {
      "provenance": []
    },
    "kernelspec": {
      "name": "python3",
      "display_name": "Python 3"
    },
    "language_info": {
      "name": "python"
    }
  },
  "cells": [
    {
      "cell_type": "code",
      "execution_count": 1,
      "metadata": {
        "colab": {
          "base_uri": "https://localhost:8080/"
        },
        "id": "_4C7oDwzveR3",
        "outputId": "12888dd7-5efc-42f7-b897-2131edf4b360"
      },
      "outputs": [
        {
          "output_type": "stream",
          "name": "stdout",
          "text": [
            "Enter first number: 36\n",
            "Enter second number: 37\n",
            "LCM of 36 and 37 is 1332\n"
          ]
        }
      ],
      "source": [
        "def find_lcm(num1, num2):\n",
        "    if num1 > num2:\n",
        "        greater = num1\n",
        "    else:\n",
        "        greater = num2\n",
        "\n",
        "    while True:\n",
        "        if greater % num1 == 0 and greater % num2 == 0:\n",
        "            lcm = greater\n",
        "            break\n",
        "        greater += 1\n",
        "\n",
        "    return lcm\n",
        "\n",
        "num1 = int(input(\"Enter first number: \"))\n",
        "num2 = int(input(\"Enter second number: \"))\n",
        "\n",
        "lcm = find_lcm(num1, num2)\n",
        "print(\"LCM of\", num1, \"and\", num2, \"is\", lcm)\n"
      ]
    },
    {
      "cell_type": "code",
      "source": [
        "def find_hcf(num1, num2):\n",
        "    while num2:\n",
        "        num1, num2 = num2, num1 % num2\n",
        "    return num1\n",
        "\n",
        "num1 = int(input(\"Enter first number: \"))\n",
        "num2 = int(input(\"Enter second number: \"))\n",
        "\n",
        "hcf = find_hcf(num1, num2)\n",
        "print(\"HCF of\", num1, \"and\", num2, \"is\", hcf)\n"
      ],
      "metadata": {
        "colab": {
          "base_uri": "https://localhost:8080/"
        },
        "id": "Nf6d6ViOvjXx",
        "outputId": "11cfb2ae-206e-4651-c082-d57e1cd9e2b1"
      },
      "execution_count": 2,
      "outputs": [
        {
          "output_type": "stream",
          "name": "stdout",
          "text": [
            "Enter first number: 36\n",
            "Enter second number: 363\n",
            "HCF of 36 and 363 is 3\n"
          ]
        }
      ]
    },
    {
      "cell_type": "code",
      "source": [
        "decimal = float(input(\"Enter a decimal number: \"))\n",
        "\n",
        "print(\"Binary:\", format(decimal, '.0f'))\n",
        "print(\"Octal:\", format(decimal, '.0f'))\n",
        "print(\"Hexadecimal:\", format(decimal, '.0f'))\n"
      ],
      "metadata": {
        "colab": {
          "base_uri": "https://localhost:8080/"
        },
        "id": "gx0z0mz1vmHm",
        "outputId": "6d15d139-0ac9-4db5-c090-b7e852f753b5"
      },
      "execution_count": 6,
      "outputs": [
        {
          "output_type": "stream",
          "name": "stdout",
          "text": [
            "Enter a decimal number: 3.2\n",
            "Binary: 3\n",
            "Octal: 3\n",
            "Hexadecimal: 3\n"
          ]
        }
      ]
    },
    {
      "cell_type": "code",
      "source": [
        "character = input(\"Enter a character: \")\n",
        "\n",
        "if len(character) != 1:\n",
        "    print(\"Please enter a single character.\")\n",
        "else:\n",
        "    print(\"ASCII value of\", character, \"is\", ord(character))\n"
      ],
      "metadata": {
        "colab": {
          "base_uri": "https://localhost:8080/"
        },
        "id": "KZleHA-rvoVh",
        "outputId": "4a74b546-f3dc-4e90-a525-b5a94ef4b52b"
      },
      "execution_count": 9,
      "outputs": [
        {
          "output_type": "stream",
          "name": "stdout",
          "text": [
            "Enter a character: ankur\n",
            "Please enter a single character.\n"
          ]
        }
      ]
    },
    {
      "cell_type": "code",
      "source": [
        "def add(num1, num2):\n",
        "    return num1 + num2\n",
        "\n",
        "def subtract(num1, num2):\n",
        "    return num1 - num2\n",
        "\n",
        "def multiply(num1, num2):\n",
        "    return num1 * num2\n",
        "\n",
        "def divide(num1, num2):\n",
        "    return num1 / num2\n",
        "\n",
        "num1 = float(input(\"Enter first number: \"))\n",
        "num2 = float(input(\"Enter second number: \"))\n",
        "\n",
        "print(\"Select operation:\")\n",
        "print(\"1. Add\")\n",
        "print(\"2. Subtract\")\n",
        "print(\"3. Multiply\")\n",
        "print(\"4. Divide\")\n",
        "\n",
        "choice = int(input(\"Enter your choice (1-4): \"))\n",
        "\n",
        "if choice == 1:\n",
        "    print(\"Result:\", add(num1, num2))\n",
        "elif choice == 2:\n",
        "    print(\"Result:\", subtract(num1, num2))\n",
        "elif choice == 3:\n",
        "    print(\"Result:\", multiply(num1, num2))\n",
        "elif choice == 4:\n",
        "    print(\"Result:\", divide(num1, num2))\n",
        "else:\n",
        "    print(\"Invalid choice\")\n"
      ],
      "metadata": {
        "colab": {
          "base_uri": "https://localhost:8080/"
        },
        "id": "rMceGVvBvq6X",
        "outputId": "c17ab269-9342-4fb9-dbb7-854095b338c0"
      },
      "execution_count": 10,
      "outputs": [
        {
          "output_type": "stream",
          "name": "stdout",
          "text": [
            "Enter first number: 333\n",
            "Enter second number: 23\n",
            "Select operation:\n",
            "1. Add\n",
            "2. Subtract\n",
            "3. Multiply\n",
            "4. Divide\n",
            "Enter your choice (1-4): 33\n",
            "Invalid choice\n"
          ]
        }
      ]
    },
    {
      "cell_type": "code",
      "source": [],
      "metadata": {
        "id": "GYvAjV-0vtM7"
      },
      "execution_count": null,
      "outputs": []
    }
  ]
}