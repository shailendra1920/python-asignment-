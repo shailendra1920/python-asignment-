{
  "cells": [
    {
      "cell_type": "markdown",
      "id": "9bf47949",
      "metadata": {
        "id": "9bf47949"
      },
      "source": [
        "## Python Basic Programming Assignment - 14\n",
        "---------------------"
      ]
    },
    {
      "cell_type": "markdown",
      "id": "a8074819",
      "metadata": {
        "id": "a8074819"
      },
      "source": [
        "### 1. Define a class with a generator which can iterate the numbers, which are divisible by 7, between a given range 0 and n."
      ]
    },
    {
      "cell_type": "code",
      "source": [
        "class DivisibleBySeven:\n",
        "    def __init__(self, n):\n",
        "        self.n = n\n",
        "\n",
        "    def generate_numbers(self):\n",
        "        for i in range(self.n + 1):\n",
        "            if i % 7 == 0:\n",
        "                yield i\n",
        "\n",
        "n = int(input(\"Enter the value of n: \"))\n",
        "divisible_nums = DivisibleBySeven(n)\n",
        "\n",
        "for num in divisible_nums.generate_numbers():\n",
        "    print(num)\n"
      ],
      "metadata": {
        "id": "XN_u5qRzQ3tD",
        "outputId": "d78898ac-4a26-4263-fc70-01ad6b230b0c",
        "colab": {
          "base_uri": "https://localhost:8080/"
        }
      },
      "id": "XN_u5qRzQ3tD",
      "execution_count": null,
      "outputs": [
        {
          "output_type": "stream",
          "name": "stdout",
          "text": [
            "Enter the value of n: 1515\n",
            "0\n",
            "7\n",
            "14\n",
            "21\n",
            "28\n",
            "35\n",
            "42\n",
            "49\n",
            "56\n",
            "63\n",
            "70\n",
            "77\n",
            "84\n",
            "91\n",
            "98\n",
            "105\n",
            "112\n",
            "119\n",
            "126\n",
            "133\n",
            "140\n",
            "147\n",
            "154\n",
            "161\n",
            "168\n",
            "175\n",
            "182\n",
            "189\n",
            "196\n",
            "203\n",
            "210\n",
            "217\n",
            "224\n",
            "231\n",
            "238\n",
            "245\n",
            "252\n",
            "259\n",
            "266\n",
            "273\n",
            "280\n",
            "287\n",
            "294\n",
            "301\n",
            "308\n",
            "315\n",
            "322\n",
            "329\n",
            "336\n",
            "343\n",
            "350\n",
            "357\n",
            "364\n",
            "371\n",
            "378\n",
            "385\n",
            "392\n",
            "399\n",
            "406\n",
            "413\n",
            "420\n",
            "427\n",
            "434\n",
            "441\n",
            "448\n",
            "455\n",
            "462\n",
            "469\n",
            "476\n",
            "483\n",
            "490\n",
            "497\n",
            "504\n",
            "511\n",
            "518\n",
            "525\n",
            "532\n",
            "539\n",
            "546\n",
            "553\n",
            "560\n",
            "567\n",
            "574\n",
            "581\n",
            "588\n",
            "595\n",
            "602\n",
            "609\n",
            "616\n",
            "623\n",
            "630\n",
            "637\n",
            "644\n",
            "651\n",
            "658\n",
            "665\n",
            "672\n",
            "679\n",
            "686\n",
            "693\n",
            "700\n",
            "707\n",
            "714\n",
            "721\n",
            "728\n",
            "735\n",
            "742\n",
            "749\n",
            "756\n",
            "763\n",
            "770\n",
            "777\n",
            "784\n",
            "791\n",
            "798\n",
            "805\n",
            "812\n",
            "819\n",
            "826\n",
            "833\n",
            "840\n",
            "847\n",
            "854\n",
            "861\n",
            "868\n",
            "875\n",
            "882\n",
            "889\n",
            "896\n",
            "903\n",
            "910\n",
            "917\n",
            "924\n",
            "931\n",
            "938\n",
            "945\n",
            "952\n",
            "959\n",
            "966\n",
            "973\n",
            "980\n",
            "987\n",
            "994\n",
            "1001\n",
            "1008\n",
            "1015\n",
            "1022\n",
            "1029\n",
            "1036\n",
            "1043\n",
            "1050\n",
            "1057\n",
            "1064\n",
            "1071\n",
            "1078\n",
            "1085\n",
            "1092\n",
            "1099\n",
            "1106\n",
            "1113\n",
            "1120\n",
            "1127\n",
            "1134\n",
            "1141\n",
            "1148\n",
            "1155\n",
            "1162\n",
            "1169\n",
            "1176\n",
            "1183\n",
            "1190\n",
            "1197\n",
            "1204\n",
            "1211\n",
            "1218\n",
            "1225\n",
            "1232\n",
            "1239\n",
            "1246\n",
            "1253\n",
            "1260\n",
            "1267\n",
            "1274\n",
            "1281\n",
            "1288\n",
            "1295\n",
            "1302\n",
            "1309\n",
            "1316\n",
            "1323\n",
            "1330\n",
            "1337\n",
            "1344\n",
            "1351\n",
            "1358\n",
            "1365\n",
            "1372\n",
            "1379\n",
            "1386\n",
            "1393\n",
            "1400\n",
            "1407\n",
            "1414\n",
            "1421\n",
            "1428\n",
            "1435\n",
            "1442\n",
            "1449\n",
            "1456\n",
            "1463\n",
            "1470\n",
            "1477\n",
            "1484\n",
            "1491\n",
            "1498\n",
            "1505\n",
            "1512\n"
          ]
        }
      ]
    },
    {
      "cell_type": "markdown",
      "id": "8127371b",
      "metadata": {
        "id": "8127371b"
      },
      "source": [
        "\n",
        "### 2. Write a program to compute the frequency of the words from the input. The output should output after sorting the key alphanumerically."
      ]
    },
    {
      "cell_type": "code",
      "source": [
        "def compute_word_frequency(input_text):\n",
        "    words = input_text.split()\n",
        "    word_freq = {}\n",
        "\n",
        "    for word in words:\n",
        "        if word in word_freq:\n",
        "            word_freq[word] += 1\n",
        "        else:\n",
        "            word_freq[word] = 1\n",
        "\n",
        "    sorted_freq = sorted(word_freq.items(), key=lambda x: x[0])\n",
        "    return sorted_freq\n",
        "\n",
        "input_text = input(\"Enter a sentence: \")\n",
        "frequency = compute_word_frequency(input_text)\n",
        "\n",
        "for word, count in frequency:\n",
        "    print(word, \":\", count)\n"
      ],
      "metadata": {
        "id": "PhoLwigMRAeh",
        "outputId": "b5c5c56f-0164-4bfd-ee1e-990dca9a4ef9",
        "colab": {
          "base_uri": "https://localhost:8080/"
        }
      },
      "id": "PhoLwigMRAeh",
      "execution_count": null,
      "outputs": [
        {
          "output_type": "stream",
          "name": "stdout",
          "text": [
            "Enter a sentence: shailendra singh \n",
            "shailendra : 1\n",
            "singh : 1\n"
          ]
        }
      ]
    },
    {
      "cell_type": "markdown",
      "id": "4e869c3c",
      "metadata": {
        "id": "4e869c3c"
      },
      "source": [
        "\n",
        "### 3. Define a class Person and its two child classes: Male and Female. All classes have a method \"getGender\" which can print \"Male\" for Male class and \"Female\" for Female class."
      ]
    },
    {
      "cell_type": "code",
      "source": [
        "class Person:\n",
        "    def getGender(self):\n",
        "        print(\"Unknown\")\n",
        "\n",
        "class Male(Person):\n",
        "    def getGender(self):\n",
        "        print(\"Male\")\n",
        "\n",
        "class Female(Person):\n",
        "    def getGender(self):\n",
        "        print(\"Female\")\n",
        "\n",
        "person = Person()\n",
        "person.getGender()  # Output: Unknown\n",
        "\n",
        "male = Male()\n",
        "male.getGender()  # Output: Male\n",
        "\n",
        "female = Female()\n",
        "female.getGender()  # Output: Female\n"
      ],
      "metadata": {
        "id": "inMU4GuRRK_Q",
        "outputId": "939bb0f2-197c-45cb-ecf6-9f2cf78515b2",
        "colab": {
          "base_uri": "https://localhost:8080/"
        }
      },
      "id": "inMU4GuRRK_Q",
      "execution_count": null,
      "outputs": [
        {
          "output_type": "stream",
          "name": "stdout",
          "text": [
            "Unknown\n",
            "Male\n",
            "Female\n"
          ]
        }
      ]
    },
    {
      "cell_type": "markdown",
      "id": "58b5940f",
      "metadata": {
        "id": "58b5940f"
      },
      "source": [
        "\n",
        "### 4. Please write a program to generate all sentences where subject is in [\"I\", \"You\"] and verb is in ['Play', \"Love\"] and the object is in [\"Hockey\",\"Football\"]."
      ]
    },
    {
      "cell_type": "code",
      "source": [
        "subjects = [\"I\", \"You\"]\n",
        "verbs = [\"Play\", \"Love\"]\n",
        "objects = [\"Hockey\", \"Football\"]\n",
        "\n",
        "sentences = []\n",
        "\n",
        "for subject in subjects:\n",
        "    for verb in verbs:\n",
        "        for obj in objects:\n",
        "            sentence = subject + \" \" + verb + \" \" + obj\n",
        "            sentences.append(sentence)\n",
        "\n",
        "for sentence in sentences:\n",
        "    print(sentence)\n"
      ],
      "metadata": {
        "id": "MhNpfgK-RNZL",
        "outputId": "86ad8aa9-6a36-4d5e-a536-1d6f1c00ff3d",
        "colab": {
          "base_uri": "https://localhost:8080/"
        }
      },
      "id": "MhNpfgK-RNZL",
      "execution_count": null,
      "outputs": [
        {
          "output_type": "stream",
          "name": "stdout",
          "text": [
            "I Play Hockey\n",
            "I Play Football\n",
            "I Love Hockey\n",
            "I Love Football\n",
            "You Play Hockey\n",
            "You Play Football\n",
            "You Love Hockey\n",
            "You Love Football\n"
          ]
        }
      ]
    },
    {
      "cell_type": "markdown",
      "id": "0ddf4f59",
      "metadata": {
        "id": "0ddf4f59"
      },
      "source": [
        "\n",
        "### 5. Please write a program to compress and decompress the string \"hello world!hello world!hello world!hello world!\""
      ]
    },
    {
      "cell_type": "code",
      "source": [
        "import zlib\n",
        "\n",
        "input_string = \"hello world!hello world!hello world!hello world!\"\n",
        "\n",
        "compressed_data = zlib.compress(input_string.encode())\n",
        "decompressed_data = zlib.decompress(compressed_data)\n",
        "\n",
        "print(\"Compressed Data:\", compressed_data)\n",
        "print(\"Decompressed Data:\", decompressed_data.decode())\n"
      ],
      "metadata": {
        "id": "3xxqMmSZRRgM",
        "outputId": "fd041008-359d-483d-e0e4-91387b22cd3f",
        "colab": {
          "base_uri": "https://localhost:8080/"
        }
      },
      "id": "3xxqMmSZRRgM",
      "execution_count": null,
      "outputs": [
        {
          "output_type": "stream",
          "name": "stdout",
          "text": [
            "Compressed Data: b'x\\x9c\\xcbH\\xcd\\xc9\\xc9W(\\xcf/\\xcaIQ\\xcc \\x82\\r\\x00\\xbd[\\x11\\xf5'\n",
            "Decompressed Data: hello world!hello world!hello world!hello world!\n"
          ]
        }
      ]
    },
    {
      "cell_type": "markdown",
      "id": "2aeb595b",
      "metadata": {
        "id": "2aeb595b"
      },
      "source": [
        "\n",
        "### 6. Please write a binary search function which searches an item in a sorted list. The function should return the index of element to be searched in the list."
      ]
    },
    {
      "cell_type": "code",
      "source": [
        "def binary_search(sorted_list, item):\n",
        "    low = 0\n",
        "    high = len(sorted_list) - 1\n",
        "\n",
        "    while low <= high:\n",
        "        mid = (low + high) // 2\n",
        "        guess = sorted_list[mid]\n",
        "\n",
        "        if guess == item:\n",
        "            return mid\n",
        "        elif guess < item:\n",
        "            low = mid + 1\n",
        "        else:\n",
        "            high = mid - 1\n",
        "\n",
        "    return None\n",
        "\n",
        "sorted_list = [2, 5, 7, 9, 12, 15, 18, 20]\n",
        "item_to_search = 9\n",
        "\n",
        "result = binary_search(sorted_list, item_to_search)\n",
        "\n",
        "if result is not None:\n",
        "    print(\"Item found at index\", result)\n",
        "else:\n",
        "    print(\"Item not found in the list\")\n"
      ],
      "metadata": {
        "id": "z1ez0oQPRVcr",
        "outputId": "989c3683-e8c1-4378-8b3a-a9314e80a549",
        "colab": {
          "base_uri": "https://localhost:8080/"
        }
      },
      "id": "z1ez0oQPRVcr",
      "execution_count": null,
      "outputs": [
        {
          "output_type": "stream",
          "name": "stdout",
          "text": [
            "Item found at index 3\n"
          ]
        }
      ]
    },
    {
      "cell_type": "code",
      "source": [],
      "metadata": {
        "id": "VnfeVkC5RXnT"
      },
      "id": "VnfeVkC5RXnT",
      "execution_count": null,
      "outputs": []
    }
  ],
  "metadata": {
    "kernelspec": {
      "display_name": "Python 3 (ipykernel)",
      "language": "python",
      "name": "python3"
    },
    "language_info": {
      "codemirror_mode": {
        "name": "ipython",
        "version": 3
      },
      "file_extension": ".py",
      "mimetype": "text/x-python",
      "name": "python",
      "nbconvert_exporter": "python",
      "pygments_lexer": "ipython3",
      "version": "3.9.12"
    },
    "colab": {
      "provenance": []
    }
  },
  "nbformat": 4,
  "nbformat_minor": 5
}