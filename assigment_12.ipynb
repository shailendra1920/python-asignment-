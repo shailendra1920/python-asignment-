{
  "nbformat": 4,
  "nbformat_minor": 0,
  "metadata": {
    "colab": {
      "provenance": []
    },
    "kernelspec": {
      "name": "python3",
      "display_name": "Python 3"
    },
    "language_info": {
      "name": "python"
    }
  },
  "cells": [
    {
      "cell_type": "code",
      "execution_count": 1,
      "metadata": {
        "colab": {
          "base_uri": "https://localhost:8080/"
        },
        "id": "STTpC_qs4jhV",
        "outputId": "351446d7-92dc-4460-83aa-afc4f2cb42e7"
      },
      "outputs": [
        {
          "output_type": "stream",
          "name": "stdout",
          "text": [
            "Unique values: {1, 2, 3, 4, 5}\n"
          ]
        }
      ],
      "source": [
        "def extract_unique_values(dictionary):\n",
        "    unique_values = set()\n",
        "    for value in dictionary.values():\n",
        "        if isinstance(value, list):\n",
        "            unique_values.update(value)\n",
        "        else:\n",
        "            unique_values.add(value)\n",
        "    return unique_values\n",
        "\n",
        "# Example usage\n",
        "my_dict = {\"A\": [1, 2, 3], \"B\": [2, 3, 4], \"C\": [3, 4, 5]}\n",
        "result = extract_unique_values(my_dict)\n",
        "print(\"Unique values:\", result)\n"
      ]
    },
    {
      "cell_type": "code",
      "source": [
        "def sum_of_dictionary(dictionary):\n",
        "    total = sum(dictionary.values())\n",
        "    return total\n",
        "\n",
        "# Example usage\n",
        "my_dict = {\"A\": 10, \"B\": 20, \"C\": 30}\n",
        "result = sum_of_dictionary(my_dict)\n",
        "print(\"Sum of dictionary items:\", result)\n"
      ],
      "metadata": {
        "colab": {
          "base_uri": "https://localhost:8080/"
        },
        "id": "O28rKvF94lDF",
        "outputId": "13d52515-a0ca-417a-ac00-fa0628b68971"
      },
      "execution_count": 2,
      "outputs": [
        {
          "output_type": "stream",
          "name": "stdout",
          "text": [
            "Sum of dictionary items: 60\n"
          ]
        }
      ]
    },
    {
      "cell_type": "code",
      "source": [
        "def merge_dictionaries(dict1, dict2):\n",
        "    merged_dict = {**dict1, **dict2}\n",
        "    return merged_dict\n",
        "\n",
        "# Example usage\n",
        "dict1 = {\"A\": 1, \"B\": 2}\n",
        "dict2 = {\"C\": 3, \"D\": 4}\n",
        "result = merge_dictionaries(dict1, dict2)\n",
        "print(\"Merged dictionary:\", result)\n"
      ],
      "metadata": {
        "colab": {
          "base_uri": "https://localhost:8080/"
        },
        "id": "VysjR1ia538_",
        "outputId": "5265fa61-7e22-4a57-e59d-35d3dfbdfdf7"
      },
      "execution_count": 3,
      "outputs": [
        {
          "output_type": "stream",
          "name": "stdout",
          "text": [
            "Merged dictionary: {'A': 1, 'B': 2, 'C': 3, 'D': 4}\n"
          ]
        }
      ]
    },
    {
      "cell_type": "code",
      "source": [
        "def merge_dictionaries(dict1, dict2):\n",
        "    merged_dict = {**dict1, **dict2}\n",
        "    return merged_dict\n",
        "\n",
        "# Example usage\n",
        "dict1 = {\"A\": 1, \"B\": 2}\n",
        "dict2 = {\"C\": 3, \"D\": 4}\n",
        "result = merge_dictionaries(dict1, dict2)\n",
        "print(\"Merged dictionary:\", result)\n"
      ],
      "metadata": {
        "colab": {
          "base_uri": "https://localhost:8080/"
        },
        "id": "hovGlNte58e0",
        "outputId": "2b9e61d7-b1d8-4c3a-92e0-77a6b0f2d953"
      },
      "execution_count": 4,
      "outputs": [
        {
          "output_type": "stream",
          "name": "stdout",
          "text": [
            "Merged dictionary: {'A': 1, 'B': 2, 'C': 3, 'D': 4}\n"
          ]
        }
      ]
    },
    {
      "cell_type": "code",
      "source": [
        "def convert_to_flat_dictionary(keys, values):\n",
        "    flat_dict = {}\n",
        "    for i in range(len(keys)):\n",
        "        flat_dict[keys[i]] = values[i]\n",
        "    return flat_dict\n",
        "\n",
        "# Example usage\n",
        "key_list = [\"A\", \"B\", \"C\"]\n",
        "value_list = [1, 2, 3]\n",
        "result = convert_to_flat_dictionary(key_list, value_list)\n",
        "print(\"Flat dictionary:\", result)\n"
      ],
      "metadata": {
        "colab": {
          "base_uri": "https://localhost:8080/"
        },
        "id": "WVgdLqaD6UC2",
        "outputId": "4d3c2d93-89f3-40d0-86c9-542758e46793"
      },
      "execution_count": 6,
      "outputs": [
        {
          "output_type": "stream",
          "name": "stdout",
          "text": [
            "Flat dictionary: {'A': 1, 'B': 2, 'C': 3}\n"
          ]
        }
      ]
    },
    {
      "cell_type": "code",
      "source": [
        "from collections import OrderedDict\n",
        "\n",
        "def check_character_order(string):\n",
        "    ordered_dict = OrderedDict()\n",
        "    for char in string:\n",
        "        ordered_dict[char] = None\n",
        "    return ''.join(ordered_dict.keys())\n",
        "\n",
        "# Example usage\n",
        "my_string = \"hello\"\n",
        "result = check_character_order(my_string)\n",
        "print(\"Ordered characters:\", result)\n"
      ],
      "metadata": {
        "colab": {
          "base_uri": "https://localhost:8080/"
        },
        "id": "oh-8rGQu6Zdy",
        "outputId": "22718fe0-ce64-47aa-802e-4dc217098ec8"
      },
      "execution_count": 8,
      "outputs": [
        {
          "output_type": "stream",
          "name": "stdout",
          "text": [
            "Ordered characters: helo\n"
          ]
        }
      ]
    },
    {
      "cell_type": "code",
      "source": [
        "def sort_dictionary(dictionary, by_key=True):\n",
        "    if by_key:\n",
        "        sorted_dict = dict(sorted(dictionary.items()))\n",
        "    else:\n",
        "        sorted_dict = dict(sorted(dictionary.items(), key=lambda item: item[1]))\n",
        "    return sorted_dict\n",
        "\n",
        "# Example usage\n",
        "my_dict = {\"B\": 2, \"A\": 1, \"D\": 4, \"C\": 3}\n",
        "sorted_by_key = sort_dictionary(my_dict, by_key=True)\n",
        "print(\"Dictionary sorted by key:\", sorted_by_key)\n",
        "sorted_by_value = sort_dictionary(my_dict, by_key=False)\n",
        "print(\"Dictionary sorted by value:\", sorted_by_value)\n"
      ],
      "metadata": {
        "colab": {
          "base_uri": "https://localhost:8080/"
        },
        "id": "PfiAMmYj62Gl",
        "outputId": "41282cf8-67da-426a-d17e-cc35c76a6074"
      },
      "execution_count": 9,
      "outputs": [
        {
          "output_type": "stream",
          "name": "stdout",
          "text": [
            "Dictionary sorted by key: {'A': 1, 'B': 2, 'C': 3, 'D': 4}\n",
            "Dictionary sorted by value: {'A': 1, 'B': 2, 'C': 3, 'D': 4}\n"
          ]
        }
      ]
    }
  ]
}