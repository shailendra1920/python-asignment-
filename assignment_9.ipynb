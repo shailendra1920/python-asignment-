{
  "nbformat": 4,
  "nbformat_minor": 0,
  "metadata": {
    "colab": {
      "provenance": []
    },
    "kernelspec": {
      "name": "python3",
      "display_name": "Python 3"
    },
    "language_info": {
      "name": "python"
    }
  },
  "cells": [
    {
      "cell_type": "code",
      "execution_count": 1,
      "metadata": {
        "colab": {
          "base_uri": "https://localhost:8080/"
        },
        "id": "sQLvhJ9o09Ks",
        "outputId": "460e2b9e-0a18-4380-9866-4c94882598a7"
      },
      "outputs": [
        {
          "output_type": "stream",
          "name": "stdout",
          "text": [
            "Enter a number: 2323\n",
            "2323 is not a Disarium number.\n"
          ]
        }
      ],
      "source": [
        "def is_disarium_number(num):\n",
        "    num_str = str(num)\n",
        "    length = len(num_str)\n",
        "    sum_of_digits = 0\n",
        "\n",
        "    for i in range(length):\n",
        "        sum_of_digits += int(num_str[i]) ** (i + 1)\n",
        "\n",
        "    return num == sum_of_digits\n",
        "\n",
        "number = int(input(\"Enter a number: \"))\n",
        "\n",
        "if is_disarium_number(number):\n",
        "    print(number, \"is a Disarium number.\")\n",
        "else:\n",
        "    print(number, \"is not a Disarium number.\")\n"
      ]
    },
    {
      "cell_type": "code",
      "source": [
        "def is_disarium_number(num):\n",
        "    num_str = str(num)\n",
        "    length = len(num_str)\n",
        "    sum_of_digits = 0\n",
        "\n",
        "    for i in range(length):\n",
        "        sum_of_digits += int(num_str[i]) ** (i + 1)\n",
        "\n",
        "    return num == sum_of_digits\n",
        "\n",
        "print(\"Disarium numbers between 1 and 100:\")\n",
        "for number in range(1, 101):\n",
        "    if is_disarium_number(number):\n",
        "        print(number)\n"
      ],
      "metadata": {
        "colab": {
          "base_uri": "https://localhost:8080/"
        },
        "id": "-vYrNAQ30-dX",
        "outputId": "2edad196-f5a9-411f-f1ff-6b0706983bb2"
      },
      "execution_count": 2,
      "outputs": [
        {
          "output_type": "stream",
          "name": "stdout",
          "text": [
            "Disarium numbers between 1 and 100:\n",
            "1\n",
            "2\n",
            "3\n",
            "4\n",
            "5\n",
            "6\n",
            "7\n",
            "8\n",
            "9\n",
            "89\n"
          ]
        }
      ]
    },
    {
      "cell_type": "code",
      "source": [
        "def is_happy_number(num):\n",
        "    seen_numbers = set()\n",
        "\n",
        "    while num != 1 and num not in seen_numbers:\n",
        "        seen_numbers.add(num)\n",
        "        num = sum(int(digit) ** 2 for digit in str(num))\n",
        "\n",
        "    return num == 1\n",
        "\n",
        "number = int(input(\"Enter a number: \"))\n",
        "\n",
        "if is_happy_number(number):\n",
        "    print(number, \"is a Happy number.\")\n",
        "else:\n",
        "    print(number, \"is not a Happy number.\")\n"
      ],
      "metadata": {
        "colab": {
          "base_uri": "https://localhost:8080/"
        },
        "id": "yDTZtowM1dbx",
        "outputId": "45bb764a-d5f7-4815-cfa0-0961ed29a121"
      },
      "execution_count": 3,
      "outputs": [
        {
          "output_type": "stream",
          "name": "stdout",
          "text": [
            "Enter a number: 123\n",
            "123 is not a Happy number.\n"
          ]
        }
      ]
    },
    {
      "cell_type": "code",
      "source": [
        "def is_happy_number(num):\n",
        "    seen_numbers = set()\n",
        "\n",
        "    while num != 1 and num not in seen_numbers:\n",
        "        seen_numbers.add(num)\n",
        "        num = sum(int(digit) ** 2 for digit in str(num))\n",
        "\n",
        "    return num == 1\n",
        "\n",
        "print(\"Happy numbers between 1 and 100:\")\n",
        "for number in range(1, 101):\n",
        "    if is_happy_number(number):\n",
        "        print(number)\n"
      ],
      "metadata": {
        "colab": {
          "base_uri": "https://localhost:8080/"
        },
        "id": "WUzWpTVE1kma",
        "outputId": "1172cd1c-f06a-43ab-bf17-d8112a0863fb"
      },
      "execution_count": 4,
      "outputs": [
        {
          "output_type": "stream",
          "name": "stdout",
          "text": [
            "Happy numbers between 1 and 100:\n",
            "1\n",
            "7\n",
            "10\n",
            "13\n",
            "19\n",
            "23\n",
            "28\n",
            "31\n",
            "32\n",
            "44\n",
            "49\n",
            "68\n",
            "70\n",
            "79\n",
            "82\n",
            "86\n",
            "91\n",
            "94\n",
            "97\n",
            "100\n"
          ]
        }
      ]
    },
    {
      "cell_type": "code",
      "source": [
        "def is_harshad_number(num):\n",
        "    sum_of_digits = sum(int(digit) for digit in str(num))\n",
        "    return num % sum_of_digits == 0\n",
        "\n",
        "number = int(input(\"Enter a number: \"))\n",
        "\n",
        "if is_harshad_number(number):\n",
        "    print(number, \"is a Harshad number.\")\n",
        "else:\n",
        "    print(number, \"is not a Harshad number.\")\n"
      ],
      "metadata": {
        "colab": {
          "base_uri": "https://localhost:8080/"
        },
        "id": "PzO50xDh1oze",
        "outputId": "c5258641-986e-446c-d8f1-9b83c9de4fda"
      },
      "execution_count": 5,
      "outputs": [
        {
          "output_type": "stream",
          "name": "stdout",
          "text": [
            "Enter a number: 123\n",
            "123 is not a Harshad number.\n"
          ]
        }
      ]
    },
    {
      "cell_type": "code",
      "source": [
        "def is_pronic_number(num):\n",
        "    for i in range(1, num+1):\n",
        "        if i * (i + 1) == num:\n",
        "            return True\n",
        "    return False\n",
        "\n",
        "print(\"Pronic numbers between 1 and 100:\")\n",
        "for number in range(1, 101):\n",
        "    if is_pronic_number(number):\n",
        "        print(number)\n"
      ],
      "metadata": {
        "colab": {
          "base_uri": "https://localhost:8080/"
        },
        "id": "hMGSGeKB1tj4",
        "outputId": "96f4503c-2c09-4b79-ed35-fa56db1e0a67"
      },
      "execution_count": 6,
      "outputs": [
        {
          "output_type": "stream",
          "name": "stdout",
          "text": [
            "Pronic numbers between 1 and 100:\n",
            "2\n",
            "6\n",
            "12\n",
            "20\n",
            "30\n",
            "42\n",
            "56\n",
            "72\n",
            "90\n"
          ]
        }
      ]
    },
    {
      "cell_type": "code",
      "source": [],
      "metadata": {
        "id": "jXYeo2fW1yKY"
      },
      "execution_count": null,
      "outputs": []
    }
  ]
}