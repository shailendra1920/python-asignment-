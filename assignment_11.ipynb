{
  "nbformat": 4,
  "nbformat_minor": 0,
  "metadata": {
    "colab": {
      "provenance": []
    },
    "kernelspec": {
      "name": "python3",
      "display_name": "Python 3"
    },
    "language_info": {
      "name": "python"
    }
  },
  "cells": [
    {
      "cell_type": "code",
      "execution_count": 1,
      "metadata": {
        "colab": {
          "base_uri": "https://localhost:8080/"
        },
        "id": "R3CuZZaw8vCN",
        "outputId": "5f073519-78c6-40fe-d9a8-44d1d9a7f28d"
      },
      "outputs": [
        {
          "output_type": "stream",
          "name": "stdout",
          "text": [
            "Words greater than length 3 : ['apple', 'banana', 'elephant']\n"
          ]
        }
      ],
      "source": [
        "def find_long_words(words, k):\n",
        "    result = []\n",
        "    for word in words:\n",
        "        if len(word) > k:\n",
        "            result.append(word)\n",
        "    return result\n",
        "\n",
        "# Example usage\n",
        "word_list = [\"apple\", \"banana\", \"cat\", \"dog\", \"elephant\"]\n",
        "k = 3\n",
        "result = find_long_words(word_list, k)\n",
        "print(\"Words greater than length\", k, \":\", result)\n"
      ]
    },
    {
      "cell_type": "code",
      "source": [
        "def remove_character(string, i):\n",
        "    if i < 0 or i >= len(string):\n",
        "        return \"Invalid index\"\n",
        "    return string[:i] + string[i+1:]\n",
        "\n",
        "# Example usage\n",
        "my_string = \"Hello, World!\"\n",
        "index = 7\n",
        "result = remove_character(my_string, index)\n",
        "print(\"String after removing character at index\", index, \":\", result)\n"
      ],
      "metadata": {
        "colab": {
          "base_uri": "https://localhost:8080/"
        },
        "id": "HSBxEMqa85H_",
        "outputId": "8d51ee14-f690-4c14-d270-cbeb81c7e128"
      },
      "execution_count": 2,
      "outputs": [
        {
          "output_type": "stream",
          "name": "stdout",
          "text": [
            "String after removing character at index 7 : Hello, orld!\n"
          ]
        }
      ]
    },
    {
      "cell_type": "code",
      "source": [
        "def split_and_join(string):\n",
        "    words = string.split()\n",
        "    return \"-\".join(words)\n",
        "\n",
        "# Example usage\n",
        "my_string = \"Hello, World!\"\n",
        "result = split_and_join(my_string)\n",
        "print(\"String after split and join:\", result)\n"
      ],
      "metadata": {
        "colab": {
          "base_uri": "https://localhost:8080/"
        },
        "id": "Y4Jw2utr9UOF",
        "outputId": "d595251b-7b05-4119-ab42-5b743b20adcd"
      },
      "execution_count": 3,
      "outputs": [
        {
          "output_type": "stream",
          "name": "stdout",
          "text": [
            "String after split and join: Hello,-World!\n"
          ]
        }
      ]
    },
    {
      "cell_type": "code",
      "source": [
        "def is_binary_string(string):\n",
        "    for char in string:\n",
        "        if char != '0' and char != '1':\n",
        "            return False\n",
        "    return True\n",
        "\n",
        "# Example usage\n",
        "my_string = \"101010\"\n",
        "if is_binary_string(my_string):\n",
        "    print(\"The string is a binary string\")\n",
        "else:\n",
        "    print(\"The string is not a binary string\")\n"
      ],
      "metadata": {
        "colab": {
          "base_uri": "https://localhost:8080/"
        },
        "id": "LzZ0XbuN9YB3",
        "outputId": "e541d093-3fc8-4d6a-a12a-c4b2bdde4175"
      },
      "execution_count": 4,
      "outputs": [
        {
          "output_type": "stream",
          "name": "stdout",
          "text": [
            "The string is a binary string\n"
          ]
        }
      ]
    },
    {
      "cell_type": "code",
      "source": [
        "def find_uncommon_words(str1, str2):\n",
        "    words1 = set(str1.split())\n",
        "    words2 = set(str2.split())\n",
        "    uncommon_words = words1.symmetric_difference(words2)\n",
        "    return uncommon_words\n",
        "\n",
        "# Example usage\n",
        "string1 = \"I love coding\"\n",
        "string2 = \"Coding is fun\"\n",
        "result = find_uncommon_words(string1, string2)\n",
        "print(\"Uncommon words:\", result)\n"
      ],
      "metadata": {
        "colab": {
          "base_uri": "https://localhost:8080/"
        },
        "id": "VXTpC7Vn9crM",
        "outputId": "4ec1a302-ba71-4c04-c9d2-331283bf3ff6"
      },
      "execution_count": 5,
      "outputs": [
        {
          "output_type": "stream",
          "name": "stdout",
          "text": [
            "Uncommon words: {'I', 'coding', 'love', 'fun', 'Coding', 'is'}\n"
          ]
        }
      ]
    },
    {
      "cell_type": "code",
      "source": [
        "def find_duplicate_characters(string):\n",
        "    duplicates = []\n",
        "    for char in string:\n",
        "        if string.count(char) > 1 and char not in duplicates:\n",
        "            duplicates.append(char)\n",
        "    return duplicates\n",
        "\n",
        "# Example usage\n",
        "my_string = \"Hello, World!\"\n",
        "result = find_duplicate_characters(my_string)\n",
        "print(\"Duplicate characters:\", result)\n"
      ],
      "metadata": {
        "colab": {
          "base_uri": "https://localhost:8080/"
        },
        "id": "xYqbjebn9epe",
        "outputId": "ee715a35-733f-42e0-fbbd-cbc38dc599ca"
      },
      "execution_count": 6,
      "outputs": [
        {
          "output_type": "stream",
          "name": "stdout",
          "text": [
            "Duplicate characters: ['l', 'o']\n"
          ]
        }
      ]
    },
    {
      "cell_type": "code",
      "source": [
        "import re\n",
        "\n",
        "def has_special_character(string):\n",
        "    pattern = re.compile('[\\W_]+')\n",
        "    return bool(pattern.search(string))\n",
        "\n",
        "# Example usage\n",
        "my_string = \"Hello, World!\"\n",
        "if has_special_character(my_string):\n",
        "    print(\"The string contains special characters\")\n",
        "else:\n",
        "    print(\"The string does not contain any special characters\")\n"
      ],
      "metadata": {
        "id": "0QqSf-KL9ggG",
        "outputId": "dce5d3ad-53dc-4dda-d133-8b1e0376b1d6",
        "colab": {
          "base_uri": "https://localhost:8080/"
        }
      },
      "execution_count": 7,
      "outputs": [
        {
          "output_type": "stream",
          "name": "stdout",
          "text": [
            "The string contains special characters\n"
          ]
        }
      ]
    },
    {
      "cell_type": "code",
      "source": [],
      "metadata": {
        "id": "4AgSUhK09jNh"
      },
      "execution_count": null,
      "outputs": []
    }
  ]
}