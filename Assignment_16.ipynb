{
  "cells": [
    {
      "cell_type": "markdown",
      "id": "e304dc88",
      "metadata": {
        "id": "e304dc88"
      },
      "source": [
        "## Python Basic Programming Assignment 16\n",
        "---------------------"
      ]
    },
    {
      "cell_type": "markdown",
      "id": "d82eeee0",
      "metadata": {
        "id": "d82eeee0"
      },
      "source": [
        "### 1. Write a function that stutters a word as if someone is struggling to read it. The first two letters are repeated twice with an ellipsis ... and space after each, and then the word is pronounced with a question mark ?. Examples stutter('incredible') ➞ 'in... in... incredible?' stutter('enthusiastic') ➞ 'en... en... enthusiastic?' stutter('outstanding') ➞ 'ou... ou... outstanding?'\n",
        "\n",
        "### Hint :- Assume all input is in lower case and at least two characters long."
      ]
    },
    {
      "cell_type": "code",
      "source": [
        "def stutter(word):\n",
        "    stuttered_word = word[:2] + '... ' + word[:2] + '... ' + word + '?'\n",
        "    return stuttered_word\n",
        "\n",
        "# Examples:\n",
        "print(stutter('incredible'))  # Output: 'in... in... incredible?'\n",
        "print(stutter('enthusiastic'))  # Output: 'en... en... enthusiastic?'\n",
        "print(stutter('outstanding'))  # Output: 'ou... ou... outstanding?'\n"
      ],
      "metadata": {
        "id": "e4NBWFSXTEFE",
        "outputId": "d0e6bdf4-3a6d-4e4c-e3d3-73e1d9352dde",
        "colab": {
          "base_uri": "https://localhost:8080/"
        }
      },
      "id": "e4NBWFSXTEFE",
      "execution_count": null,
      "outputs": [
        {
          "output_type": "stream",
          "name": "stdout",
          "text": [
            "in... in... incredible?\n",
            "en... en... enthusiastic?\n",
            "ou... ou... outstanding?\n"
          ]
        }
      ]
    },
    {
      "cell_type": "markdown",
      "id": "47e1bd41",
      "metadata": {
        "id": "47e1bd41"
      },
      "source": [
        "\n",
        "### 2. Create a function that takes an angle in radians and returns the corresponding angle in degrees rounded to one decimal place."
      ]
    },
    {
      "cell_type": "code",
      "source": [
        "import math\n",
        "\n",
        "def radians_to_degrees(radians):\n",
        "    degrees = math.degrees(radians)\n",
        "    rounded_degrees = round(degrees, 1)\n",
        "    return rounded_degrees\n",
        "\n",
        "# Example:\n",
        "print(radians_to_degrees(1.5708))  # Output: 90.0\n"
      ],
      "metadata": {
        "id": "G3FbdMt5TZNV",
        "outputId": "c6968217-a862-4f17-84ec-570b8424ac51",
        "colab": {
          "base_uri": "https://localhost:8080/"
        }
      },
      "id": "G3FbdMt5TZNV",
      "execution_count": null,
      "outputs": [
        {
          "output_type": "stream",
          "name": "stdout",
          "text": [
            "90.0\n"
          ]
        }
      ]
    },
    {
      "cell_type": "markdown",
      "id": "07cad4d9",
      "metadata": {
        "id": "07cad4d9"
      },
      "source": [
        "\n",
        "### 3. In this challenge, establish if a given integer num is a Curzon number. If 1 plus 2 elevated to num is exactly divisible by 1 plus 2 multiplied by num, then num is a Curzon number. Given a non-negative integer num, implement a function that returns True if num is a Curzon number, or False otherwise."
      ]
    },
    {
      "cell_type": "code",
      "source": [
        "def is_curzon_number(num):\n",
        "    numerator = 2 ** num + 1\n",
        "    denominator = 2 * num + 1\n",
        "    if numerator % denominator == 0:\n",
        "        return True\n",
        "    else:\n",
        "        return False\n",
        "\n",
        "# Examples:\n",
        "print(is_curzon_number(5))  # Output: True\n",
        "print(is_curzon_number(10))  # Output: False\n"
      ],
      "metadata": {
        "id": "UOTlRWstUJ_T",
        "outputId": "008d73a4-3f9a-44dc-b5c3-e63c66b9f61d",
        "colab": {
          "base_uri": "https://localhost:8080/"
        }
      },
      "id": "UOTlRWstUJ_T",
      "execution_count": null,
      "outputs": [
        {
          "output_type": "stream",
          "name": "stdout",
          "text": [
            "True\n",
            "False\n"
          ]
        }
      ]
    },
    {
      "cell_type": "markdown",
      "id": "cfad2cfc",
      "metadata": {
        "id": "cfad2cfc"
      },
      "source": [
        "\n",
        "### 4. Given the side length x find the area of a hexagon."
      ]
    },
    {
      "cell_type": "code",
      "source": [
        "import math\n",
        "\n",
        "def calculate_hexagon_area(side_length):\n",
        "    area = (3 * math.sqrt(3) * (side_length ** 2)) / 2\n",
        "    return area\n",
        "\n",
        "# Example:\n",
        "print(calculate_hexagon_area(5))  # Output: 64.9519052838329\n"
      ],
      "metadata": {
        "id": "QKi3LABBUQMO",
        "outputId": "ed52db9b-85da-496e-8321-a31baccd3e3d",
        "colab": {
          "base_uri": "https://localhost:8080/"
        }
      },
      "id": "QKi3LABBUQMO",
      "execution_count": null,
      "outputs": [
        {
          "output_type": "stream",
          "name": "stdout",
          "text": [
            "64.9519052838329\n"
          ]
        }
      ]
    },
    {
      "cell_type": "markdown",
      "id": "dbc79e02",
      "metadata": {
        "id": "dbc79e02"
      },
      "source": [
        "\n",
        "### 5. Create a function that returns a base-2 (binary) representation of a base-10 (decimal) string number. To convert is simple: ((2) means base-2 and (10) means base-10) 010101001(2) = 1 + 8 + 32 + 128."
      ]
    },
    {
      "cell_type": "code",
      "source": [
        "def decimal_to_binary(decimal):\n",
        "    binary = bin(decimal)[2:]\n",
        "    return binary\n",
        "\n",
        "# Example:\n",
        "print(decimal_to_binary(170))  # Output: '10101010'\n"
      ],
      "metadata": {
        "id": "YXFFu04RUTv1",
        "outputId": "f6555218-cbe9-4f22-bac3-b4d8c4eb9b7a",
        "colab": {
          "base_uri": "https://localhost:8080/"
        }
      },
      "id": "YXFFu04RUTv1",
      "execution_count": null,
      "outputs": [
        {
          "output_type": "stream",
          "name": "stdout",
          "text": [
            "10101010\n"
          ]
        }
      ]
    },
    {
      "cell_type": "code",
      "source": [],
      "metadata": {
        "id": "lw02ktgHUUTB"
      },
      "id": "lw02ktgHUUTB",
      "execution_count": null,
      "outputs": []
    }
  ],
  "metadata": {
    "kernelspec": {
      "display_name": "Python 3 (ipykernel)",
      "language": "python",
      "name": "python3"
    },
    "language_info": {
      "codemirror_mode": {
        "name": "ipython",
        "version": 3
      },
      "file_extension": ".py",
      "mimetype": "text/x-python",
      "name": "python",
      "nbconvert_exporter": "python",
      "pygments_lexer": "ipython3",
      "version": "3.9.12"
    },
    "colab": {
      "provenance": []
    }
  },
  "nbformat": 4,
  "nbformat_minor": 5
}