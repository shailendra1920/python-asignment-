{
  "nbformat": 4,
  "nbformat_minor": 0,
  "metadata": {
    "colab": {
      "provenance": []
    },
    "kernelspec": {
      "name": "python3",
      "display_name": "Python 3"
    },
    "language_info": {
      "name": "python"
    }
  },
  "cells": [
    {
      "cell_type": "code",
      "execution_count": 2,
      "metadata": {
        "colab": {
          "base_uri": "https://localhost:8080/"
        },
        "id": "pc9Hnr-xwz3w",
        "outputId": "9f920bbe-1be8-4ae8-d3c6-338afe7de5a7"
      },
      "outputs": [
        {
          "output_type": "stream",
          "name": "stdout",
          "text": [
            "Enter the number of terms: 12\n",
            "Fibonacci Sequence:\n",
            "0 1 1 2 3 5 8 13 21 34 55 89 "
          ]
        }
      ],
      "source": [
        "def fibonacci(n):\n",
        "    if n <= 1:\n",
        "        return n\n",
        "    else:\n",
        "        return fibonacci(n-1) + fibonacci(n-2)\n",
        "\n",
        "terms = int(input(\"Enter the number of terms: \"))\n",
        "\n",
        "if terms <= 0:\n",
        "    print(\"Please enter a positive integer.\")\n",
        "else:\n",
        "    print(\"Fibonacci Sequence:\")\n",
        "    for i in range(terms):\n",
        "        print(fibonacci(i), end=\" \")\n"
      ]
    },
    {
      "cell_type": "code",
      "source": [
        "def factorial(n):\n",
        "    if n == 0:\n",
        "        return 1\n",
        "    else:\n",
        "        return n * factorial(n-1)\n",
        "\n",
        "num = int(input(\"Enter a number: \"))\n",
        "\n",
        "if num < 0:\n",
        "    print(\"Factorial is not defined for negative numbers.\")\n",
        "else:\n",
        "    print(\"Factorial of\", num, \"is\", factorial(num))\n"
      ],
      "metadata": {
        "colab": {
          "base_uri": "https://localhost:8080/"
        },
        "id": "2Tu2WxD5w_ov",
        "outputId": "5e5bd082-bf2d-465c-d532-1058c0cdac06"
      },
      "execution_count": 3,
      "outputs": [
        {
          "output_type": "stream",
          "name": "stdout",
          "text": [
            "Enter a number: 123\n",
            "Factorial of 123 is 12146304367025329675766243241881295855454217088483382315328918161829235892362167668831156960612640202170735835221294047782591091570411651472186029519906261646730733907419814952960000000000000000000000000000\n"
          ]
        }
      ]
    },
    {
      "cell_type": "code",
      "source": [
        "height_cm = float(input(\"Enter your height in centimeters: \"))\n",
        "weight = float(input(\"Enter your weight in kilograms: \"))\n",
        "\n",
        "height_m = height_cm / 100  # Convert height from cm to meters\n",
        "\n",
        "bmi = weight / (height_m * height_m)\n",
        "\n",
        "print(\"Your BMI is:\", round(bmi, 2))"
      ],
      "metadata": {
        "colab": {
          "base_uri": "https://localhost:8080/"
        },
        "id": "UtmxmwudxIUg",
        "outputId": "e6f06afd-5f73-4109-b135-f8bacc47adb0"
      },
      "execution_count": 6,
      "outputs": [
        {
          "output_type": "stream",
          "name": "stdout",
          "text": [
            "Enter your height in centimeters: 183\n",
            "Enter your weight in kilograms: 60\n",
            "Your BMI is: 17.92\n"
          ]
        }
      ]
    },
    {
      "cell_type": "code",
      "source": [
        "import math\n",
        "\n",
        "num = float(input(\"Enter a number: \"))\n",
        "\n",
        "if num <= 0:\n",
        "    print(\"Please enter a positive number.\")\n",
        "else:\n",
        "    result = math.log(num)\n",
        "    print(\"The natural logarithm of\", num, \"is\", result)\n"
      ],
      "metadata": {
        "colab": {
          "base_uri": "https://localhost:8080/"
        },
        "id": "h4ZwZq9AxKyo",
        "outputId": "fdb59414-71a3-4e2e-9af0-5a3821a012dd"
      },
      "execution_count": 7,
      "outputs": [
        {
          "output_type": "stream",
          "name": "stdout",
          "text": [
            "Enter a number: 12\n",
            "The natural logarithm of 12.0 is 2.4849066497880004\n"
          ]
        }
      ]
    },
    {
      "cell_type": "code",
      "source": [],
      "metadata": {
        "id": "W9SwLdG5x4_U"
      },
      "execution_count": null,
      "outputs": []
    }
  ]
}