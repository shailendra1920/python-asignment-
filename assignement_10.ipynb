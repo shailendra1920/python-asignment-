{
  "nbformat": 4,
  "nbformat_minor": 0,
  "metadata": {
    "colab": {
      "provenance": []
    },
    "kernelspec": {
      "name": "python3",
      "display_name": "Python 3"
    },
    "language_info": {
      "name": "python"
    }
  },
  "cells": [
    {
      "cell_type": "code",
      "execution_count": 3,
      "metadata": {
        "colab": {
          "base_uri": "https://localhost:8080/"
        },
        "id": "STTpC_qs4jhV",
        "outputId": "d5d0acaf-61f3-48c5-a568-264e722bd640"
      },
      "outputs": [
        {
          "output_type": "stream",
          "name": "stdout",
          "text": [
            "Sum of elements: 15\n"
          ]
        }
      ],
      "source": [
        "def sum_of_elements(lst):\n",
        "    return sum(lst)\n",
        "\n",
        "# Example usage\n",
        "my_list = [1, 2, 3, 4, 5]\n",
        "result = sum_of_elements(my_list)\n",
        "print(\"Sum of elements:\", result)\n"
      ]
    },
    {
      "cell_type": "code",
      "source": [
        "def multiply_numbers(lst):\n",
        "    result = 1\n",
        "    for num in lst:\n",
        "        result *= num\n",
        "    return result\n",
        "\n",
        "# Example usage\n",
        "my_list = [1, 2, 3, 4, 5]\n",
        "result = multiply_numbers(my_list)\n",
        "print(\"Product of numbers:\", result)\n"
      ],
      "metadata": {
        "colab": {
          "base_uri": "https://localhost:8080/"
        },
        "id": "O28rKvF94lDF",
        "outputId": "9f938254-24d0-45d7-fa23-64e952ac6d88"
      },
      "execution_count": 4,
      "outputs": [
        {
          "output_type": "stream",
          "name": "stdout",
          "text": [
            "Product of numbers: 120\n"
          ]
        }
      ]
    },
    {
      "cell_type": "code",
      "source": [
        "def find_smallest(lst):\n",
        "    return min(lst)\n",
        "\n",
        "# Example usage\n",
        "my_list = [5, 2, 8, 1, 9]\n",
        "result = find_smallest(my_list)\n",
        "print(\"Smallest number:\", result)\n"
      ],
      "metadata": {
        "colab": {
          "base_uri": "https://localhost:8080/"
        },
        "id": "VysjR1ia538_",
        "outputId": "6f7e4dfe-dd66-46bf-dc55-1fc7891bbd0e"
      },
      "execution_count": 5,
      "outputs": [
        {
          "output_type": "stream",
          "name": "stdout",
          "text": [
            "Smallest number: 1\n"
          ]
        }
      ]
    },
    {
      "cell_type": "code",
      "source": [
        "def find_largest(lst):\n",
        "    return max(lst)\n",
        "\n",
        "# Example usage\n",
        "my_list = [5, 2, 8, 1, 9]\n",
        "result = find_largest(my_list)\n",
        "print(\"Largest number:\", result)\n"
      ],
      "metadata": {
        "colab": {
          "base_uri": "https://localhost:8080/"
        },
        "id": "hovGlNte58e0",
        "outputId": "730913eb-6eca-4e6a-a682-2ae3deab76db"
      },
      "execution_count": 6,
      "outputs": [
        {
          "output_type": "stream",
          "name": "stdout",
          "text": [
            "Largest number: 9\n"
          ]
        }
      ]
    },
    {
      "cell_type": "code",
      "source": [
        "def find_second_largest(lst):\n",
        "    sorted_list = sorted(lst)\n",
        "    return sorted_list[-2]\n",
        "\n",
        "# Example usage\n",
        "my_list = [5, 2, 8, 1, 9]\n",
        "result = find_second_largest(my_list)\n",
        "print(\"Second largest number:\", result)\n"
      ],
      "metadata": {
        "colab": {
          "base_uri": "https://localhost:8080/"
        },
        "id": "WVgdLqaD6UC2",
        "outputId": "6f8ad0c5-1930-4758-c032-682eb4795074"
      },
      "execution_count": 7,
      "outputs": [
        {
          "output_type": "stream",
          "name": "stdout",
          "text": [
            "Second largest number: 8\n"
          ]
        }
      ]
    },
    {
      "cell_type": "code",
      "source": [
        "def find_n_largest(lst, n):\n",
        "    sorted_list = sorted(lst, reverse=True)\n",
        "    return sorted_list[:n]\n",
        "\n",
        "# Example usage\n",
        "my_list = [5, 2, 8, 1, 9]\n",
        "result = find_n_largest(my_list, 3)\n",
        "print(\"3 largest numbers:\", result)\n"
      ],
      "metadata": {
        "colab": {
          "base_uri": "https://localhost:8080/"
        },
        "id": "oh-8rGQu6Zdy",
        "outputId": "9d3228e4-96f2-4377-e431-68504a791e18"
      },
      "execution_count": 8,
      "outputs": [
        {
          "output_type": "stream",
          "name": "stdout",
          "text": [
            "3 largest numbers: [9, 8, 5]\n"
          ]
        }
      ]
    },
    {
      "cell_type": "code",
      "source": [
        "def find_n_largest(lst, n):\n",
        "    sorted_list = sorted(lst, reverse=True)\n",
        "    return sorted_list[:n]\n",
        "\n",
        "# Example usage\n",
        "my_list = [5, 2, 8, 1, 9]\n",
        "result = find_n_largest(my_list, 3)\n",
        "print(\"3 largest numbers:\", result)\n"
      ],
      "metadata": {
        "colab": {
          "base_uri": "https://localhost:8080/"
        },
        "id": "PfiAMmYj62Gl",
        "outputId": "56e43bad-6ea6-4206-c514-c485a7761c4e"
      },
      "execution_count": 9,
      "outputs": [
        {
          "output_type": "stream",
          "name": "stdout",
          "text": [
            "3 largest numbers: [9, 8, 5]\n"
          ]
        }
      ]
    },
    {
      "cell_type": "code",
      "source": [
        "def print_even_numbers(lst):\n",
        "    even_numbers = [num for num in lst if num % 2 == 0]\n",
        "    for num in even_numbers:\n",
        "        print(num)\n",
        "\n",
        "# Example usage\n",
        "my_list = [1, 2, 3, 4, 5, 6, 7, 8, 9, 10]\n",
        "print_even_numbers(my_list)\n"
      ],
      "metadata": {
        "colab": {
          "base_uri": "https://localhost:8080/"
        },
        "id": "gu-rYtZ97NCN",
        "outputId": "301d8b98-e39f-4d1d-aa64-e8400efab393"
      },
      "execution_count": 10,
      "outputs": [
        {
          "output_type": "stream",
          "name": "stdout",
          "text": [
            "2\n",
            "4\n",
            "6\n",
            "8\n",
            "10\n"
          ]
        }
      ]
    },
    {
      "cell_type": "code",
      "source": [
        "def print_odd_numbers(lst):\n",
        "    odd_numbers = [num for num in lst if num % 2 != 0]\n",
        "    for num in odd_numbers:\n",
        "        print(num)\n",
        "\n",
        "# Example usage\n",
        "my_list = [1, 2, 3, 4, 5, 6, 7, 8, 9, 10]\n",
        "print_odd_numbers(my_list)\n"
      ],
      "metadata": {
        "colab": {
          "base_uri": "https://localhost:8080/"
        },
        "id": "ptmPud1J7Nf1",
        "outputId": "8ae304cc-47a8-499c-889e-8998dd112d9a"
      },
      "execution_count": 11,
      "outputs": [
        {
          "output_type": "stream",
          "name": "stdout",
          "text": [
            "1\n",
            "3\n",
            "5\n",
            "7\n",
            "9\n"
          ]
        }
      ]
    },
    {
      "cell_type": "code",
      "source": [
        "def remove_empty_lists(lst):\n",
        "    return [sublist for sublist in lst if sublist]\n",
        "\n",
        "# Example usage\n",
        "my_list = [[1, 2], [], [3, 4], [], [5, 6, 7], []]\n",
        "result = remove_empty_lists(my_list)\n",
        "print(\"List after removing empty lists:\", result)\n"
      ],
      "metadata": {
        "colab": {
          "base_uri": "https://localhost:8080/"
        },
        "id": "Nlb47Awi7b20",
        "outputId": "a45b8a25-27a0-4130-a3a1-c84434130173"
      },
      "execution_count": 12,
      "outputs": [
        {
          "output_type": "stream",
          "name": "stdout",
          "text": [
            "List after removing empty lists: [[1, 2], [3, 4], [5, 6, 7]]\n"
          ]
        }
      ]
    }
  ]
}