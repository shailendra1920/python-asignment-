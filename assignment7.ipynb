{
  "nbformat": 4,
  "nbformat_minor": 0,
  "metadata": {
    "colab": {
      "provenance": []
    },
    "kernelspec": {
      "name": "python3",
      "display_name": "Python 3"
    },
    "language_info": {
      "name": "python"
    }
  },
  "cells": [
    {
      "cell_type": "code",
      "execution_count": 1,
      "metadata": {
        "colab": {
          "base_uri": "https://localhost:8080/"
        },
        "id": "fC99AB4tzsZ9",
        "outputId": "4a83e947-79dd-4298-a268-7496f27a76ee"
      },
      "outputs": [
        {
          "output_type": "stream",
          "name": "stdout",
          "text": [
            "Sum of the array: 15\n"
          ]
        }
      ],
      "source": [
        "def sum_of_array(arr):\n",
        "    return sum(arr)\n",
        "\n",
        "array = [1, 2, 3, 4, 5]\n",
        "\n",
        "print(\"Sum of the array:\", sum_of_array(array))\n"
      ]
    },
    {
      "cell_type": "code",
      "source": [
        "def find_largest(arr):\n",
        "    return max(arr)\n",
        "\n",
        "array = [10, 5, 20, 15, 25]\n",
        "\n",
        "print(\"Largest element in the array:\", find_largest(array))\n"
      ],
      "metadata": {
        "colab": {
          "base_uri": "https://localhost:8080/"
        },
        "id": "UVecMA-IzxYA",
        "outputId": "634ac22a-c57c-45ee-9845-d62f71c4a14b"
      },
      "execution_count": 2,
      "outputs": [
        {
          "output_type": "stream",
          "name": "stdout",
          "text": [
            "Largest element in the array: 25\n"
          ]
        }
      ]
    },
    {
      "cell_type": "code",
      "source": [
        "def rotate_array(arr, k):\n",
        "    n = len(arr)\n",
        "    rotated = arr[k % n:] + arr[:k % n]\n",
        "    return rotated\n",
        "\n",
        "array = [1, 2, 3, 4, 5]\n",
        "rotation = 2\n",
        "\n",
        "print(\"Original array:\", array)\n",
        "print(\"Rotated array:\", rotate_array(array, rotation))\n"
      ],
      "metadata": {
        "colab": {
          "base_uri": "https://localhost:8080/"
        },
        "id": "2mtXjvbxz0h6",
        "outputId": "0425cdd7-bbe1-424c-c2d1-27e4a21bc26d"
      },
      "execution_count": 3,
      "outputs": [
        {
          "output_type": "stream",
          "name": "stdout",
          "text": [
            "Original array: [1, 2, 3, 4, 5]\n",
            "Rotated array: [3, 4, 5, 1, 2]\n"
          ]
        }
      ]
    },
    {
      "cell_type": "code",
      "source": [
        "def split_and_add(arr, k):\n",
        "    return arr[k:] + arr[:k]\n",
        "\n",
        "array = [1, 2, 3, 4, 5]\n",
        "split_index = 2\n",
        "\n",
        "print(\"Original array:\", array)\n",
        "print(\"Split and added array:\", split_and_add(array, split_index))\n"
      ],
      "metadata": {
        "colab": {
          "base_uri": "https://localhost:8080/"
        },
        "id": "OXDOLclez3vl",
        "outputId": "f6ef8085-14e4-44d1-a030-3cb1b74379c1"
      },
      "execution_count": 4,
      "outputs": [
        {
          "output_type": "stream",
          "name": "stdout",
          "text": [
            "Original array: [1, 2, 3, 4, 5]\n",
            "Split and added array: [3, 4, 5, 1, 2]\n"
          ]
        }
      ]
    },
    {
      "cell_type": "code",
      "source": [
        "def is_monotonic(arr):\n",
        "    increasing = decreasing = True\n",
        "\n",
        "    for i in range(1, len(arr)):\n",
        "        if arr[i] > arr[i - 1]:\n",
        "            decreasing = False\n",
        "        if arr[i] < arr[i - 1]:\n",
        "            increasing = False\n",
        "\n",
        "    return increasing or decreasing\n",
        "\n",
        "array = [1, 2, 3, 4, 5]  # Example monotonic array\n",
        "\n",
        "print(\"Is the array monotonic?\", is_monotonic(array))\n"
      ],
      "metadata": {
        "colab": {
          "base_uri": "https://localhost:8080/"
        },
        "id": "k2e8Lsx7z7Iu",
        "outputId": "c00f2ccf-8ec8-4f63-b6d0-62bb055ff96b"
      },
      "execution_count": 5,
      "outputs": [
        {
          "output_type": "stream",
          "name": "stdout",
          "text": [
            "Is the array monotonic? True\n"
          ]
        }
      ]
    },
    {
      "cell_type": "code",
      "source": [],
      "metadata": {
        "id": "8RpNWYn6z9_r"
      },
      "execution_count": null,
      "outputs": []
    }
  ]
}