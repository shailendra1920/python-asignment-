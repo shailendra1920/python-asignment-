{
  "nbformat": 4,
  "nbformat_minor": 0,
  "metadata": {
    "colab": {
      "provenance": []
    },
    "kernelspec": {
      "name": "python3",
      "display_name": "Python 3"
    },
    "language_info": {
      "name": "python"
    }
  },
  "cells": [
    {
      "cell_type": "code",
      "execution_count": 1,
      "metadata": {
        "colab": {
          "base_uri": "https://localhost:8080/"
        },
        "id": "VoCJ5Xxr0Jp2",
        "outputId": "73fbf499-70b1-41c8-e3ad-b44266a5517b"
      },
      "outputs": [
        {
          "output_type": "stream",
          "name": "stdout",
          "text": [
            "Matrix 1: [[1, 2, 3], [4, 5, 6], [7, 8, 9]]\n",
            "Matrix 2: [[10, 11, 12], [13, 14, 15], [16, 17, 18]]\n",
            "Sum of matrices: [[11, 13, 15], [17, 19, 21], [23, 25, 27]]\n"
          ]
        }
      ],
      "source": [
        "def add_matrices(matrix1, matrix2):\n",
        "    rows = len(matrix1)\n",
        "    columns = len(matrix1[0])\n",
        "    result = []\n",
        "\n",
        "    for i in range(rows):\n",
        "        row = []\n",
        "        for j in range(columns):\n",
        "            element = matrix1[i][j] + matrix2[i][j]\n",
        "            row.append(element)\n",
        "        result.append(row)\n",
        "\n",
        "    return result\n",
        "\n",
        "# Example matrices\n",
        "matrix1 = [[1, 2, 3], [4, 5, 6], [7, 8, 9]]\n",
        "matrix2 = [[10, 11, 12], [13, 14, 15], [16, 17, 18]]\n",
        "\n",
        "print(\"Matrix 1:\", matrix1)\n",
        "print(\"Matrix 2:\", matrix2)\n",
        "print(\"Sum of matrices:\", add_matrices(matrix1, matrix2))\n"
      ]
    },
    {
      "cell_type": "code",
      "source": [
        "def multiply_matrices(matrix1, matrix2):\n",
        "    rows1 = len(matrix1)\n",
        "    columns1 = len(matrix1[0])\n",
        "    rows2 = len(matrix2)\n",
        "    columns2 = len(matrix2[0])\n",
        "\n",
        "    if columns1 != rows2:\n",
        "        return \"Matrices cannot be multiplied.\"\n",
        "\n",
        "    result = []\n",
        "\n",
        "    for i in range(rows1):\n",
        "        row = []\n",
        "        for j in range(columns2):\n",
        "            element = 0\n",
        "            for k in range(columns1):\n",
        "                element += matrix1[i][k] * matrix2[k][j]\n",
        "            row.append(element)\n",
        "        result.append(row)\n",
        "\n",
        "    return result\n",
        "\n",
        "# Example matrices\n",
        "matrix1 = [[1, 2], [3, 4]]\n",
        "matrix2 = [[5, 6], [7, 8]]\n",
        "\n",
        "print(\"Matrix 1:\", matrix1)\n",
        "print(\"Matrix 2:\", matrix2)\n",
        "print(\"Product of matrices:\", multiply_matrices(matrix1, matrix2))\n"
      ],
      "metadata": {
        "colab": {
          "base_uri": "https://localhost:8080/"
        },
        "id": "kyM-3hD_0KuF",
        "outputId": "7c5ccf3e-3b88-4b43-9d68-2278adb097ec"
      },
      "execution_count": 2,
      "outputs": [
        {
          "output_type": "stream",
          "name": "stdout",
          "text": [
            "Matrix 1: [[1, 2], [3, 4]]\n",
            "Matrix 2: [[5, 6], [7, 8]]\n",
            "Product of matrices: [[19, 22], [43, 50]]\n"
          ]
        }
      ]
    },
    {
      "cell_type": "code",
      "source": [
        "def transpose_matrix(matrix):\n",
        "    rows = len(matrix)\n",
        "    columns = len(matrix[0])\n",
        "    transposed = []\n",
        "\n",
        "    for j in range(columns):\n",
        "        row = []\n",
        "        for i in range(rows):\n",
        "            element = matrix[i][j]\n",
        "            row.append(element)\n",
        "        transposed.append(row)\n",
        "\n",
        "    return transposed\n",
        "\n",
        "# Example matrix\n",
        "matrix = [[1, 2, 3], [4, 5, 6], [7, 8, 9]]\n",
        "\n",
        "print(\"Original matrix:\", matrix)\n",
        "print(\"Transposed matrix:\", transpose_matrix(matrix))\n"
      ],
      "metadata": {
        "colab": {
          "base_uri": "https://localhost:8080/"
        },
        "id": "HySm4H0l0N9O",
        "outputId": "eee841ab-fe39-4118-b17e-654bfeda7d90"
      },
      "execution_count": 3,
      "outputs": [
        {
          "output_type": "stream",
          "name": "stdout",
          "text": [
            "Original matrix: [[1, 2, 3], [4, 5, 6], [7, 8, 9]]\n",
            "Transposed matrix: [[1, 4, 7], [2, 5, 8], [3, 6, 9]]\n"
          ]
        }
      ]
    },
    {
      "cell_type": "code",
      "source": [
        "sentence = input(\"Enter a sentence: \")\n",
        "\n",
        "words = sentence.split()\n",
        "words.sort()\n",
        "\n",
        "print(\"Sorted words:\", words)\n"
      ],
      "metadata": {
        "colab": {
          "base_uri": "https://localhost:8080/"
        },
        "id": "MehFcRGs0RN7",
        "outputId": "54b7f6e8-593b-4e1f-f6a5-adc7ae891911"
      },
      "execution_count": 4,
      "outputs": [
        {
          "output_type": "stream",
          "name": "stdout",
          "text": [
            "Enter a sentence: ankur\n",
            "Sorted words: ['ankur']\n"
          ]
        }
      ]
    },
    {
      "cell_type": "code",
      "source": [
        "import string\n",
        "\n",
        "def remove_punctuation(text):\n",
        "    return text.translate(str.maketrans(\"\", \"\", string.punctuation))\n",
        "\n",
        "sentence = input(\"Enter a sentence: \")\n",
        "\n",
        "result = remove_punctuation(sentence)\n",
        "\n",
        "print(\"Sentence without punctuation:\", result)\n"
      ],
      "metadata": {
        "colab": {
          "base_uri": "https://localhost:8080/"
        },
        "id": "Bi3b1MCl0VTd",
        "outputId": "540b8fe4-19de-490c-e3cb-9cc2d8793b18"
      },
      "execution_count": 5,
      "outputs": [
        {
          "output_type": "stream",
          "name": "stdout",
          "text": [
            "Enter a sentence: ankur subhash vishwakamra \n",
            "Sentence without punctuation: ankur subhash vishwakamra \n"
          ]
        }
      ]
    },
    {
      "cell_type": "code",
      "source": [],
      "metadata": {
        "id": "jfxXK3UJ0Yq2"
      },
      "execution_count": null,
      "outputs": []
    }
  ]
}